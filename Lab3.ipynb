{
 "cells": [
  {
   "cell_type": "code",
   "execution_count": 1,
   "metadata": {},
   "outputs": [],
   "source": [
    "#list of 007 movies where Sean Connery features James Bond \n",
    "moviesSeanConnery = [\"Dr. No (1962)\",\n",
    "\"From Russia with Love (1963)\",\n",
    "\"Goldfinger (1964)\",\n",
    "\"Thunderball (1965)\",\n",
    "\"You Only Live Twice (1967)\",\n",
    "\"Diamonds Are Forever (1971)\",\n",
    "\"Never Say Never Again (1983)\"]\n",
    "\n",
    "#list of 007 movies where David Neven features James Bond\n",
    "moviesDavidNeven=[\"Casino Royale (1967)\"]\n",
    "\n",
    "#list of 007 movies where George Lazenby features James Bond\n",
    "moviesGeorgeLazenby=[\"On Her Majesty's Secret Service (1969)\"]\n",
    "\n",
    "#list of 007 movies where Roger Moore features James Bond\n",
    "moviesRogerMoore=[ \"Live and Let Die (1973)\", \"The Man with the Golden Gun (1974)\",\n",
    "\"The Spy Who Loved Me (1977)\",\n",
    "\"Moonraker (1979)\",\n",
    "\"For Your Eyes Only (1981)\", \"Octopussy (1983)\",\n",
    "\"A View to a Kill (1985)\"]\n",
    "\n",
    "#list of 007 movies where Timothy Dalton features James Bond\n",
    "moviesTimothyDalton=[\n",
    "\"The Living Daylights (1987)\", \"Licence to Kill (1989)\"]\n",
    "\n",
    "#list of 007 movies where Pierce Brosnan features James Bond\n",
    "moviesPierceBrosnan=[\n",
    "\"GoldenEye (1995)\",\n",
    "\"Tomorrow Never Dies (1997)\", \"The World Is Not Enough (1999)\", \"Die Another Day (2002)\"]\n",
    "\n",
    "#list of 007 movies where Daniel Craig features James Bond\n",
    "moviesDanielCraig=[\"Casino Royale (2006)\", \"Quantum of Solace (2008)\",\n",
    "\"Skyfall (2012)\",\n",
    "\"Spectre (2015)\"]"
   ]
  },
  {
   "cell_type": "code",
   "execution_count": 2,
   "metadata": {},
   "outputs": [],
   "source": [
    "#1) Create a list of lists (movies007). The list will be composed by each list of movies featured by each actor"
   ]
  },
  {
   "cell_type": "code",
   "execution_count": 3,
   "metadata": {},
   "outputs": [],
   "source": [
    "movies007 = list((moviesSeanConnery,moviesDavidNeven,moviesGeorgeLazenby,moviesRogerMoore,moviesTimothyDalton,moviesPierceBrosnan,moviesDanielCraig))"
   ]
  },
  {
   "cell_type": "code",
   "execution_count": 4,
   "metadata": {},
   "outputs": [
    {
     "data": {
      "text/plain": [
       "[['Dr. No (1962)',\n",
       "  'From Russia with Love (1963)',\n",
       "  'Goldfinger (1964)',\n",
       "  'Thunderball (1965)',\n",
       "  'You Only Live Twice (1967)',\n",
       "  'Diamonds Are Forever (1971)',\n",
       "  'Never Say Never Again (1983)'],\n",
       " ['Casino Royale (1967)'],\n",
       " [\"On Her Majesty's Secret Service (1969)\"],\n",
       " ['Live and Let Die (1973)',\n",
       "  'The Man with the Golden Gun (1974)',\n",
       "  'The Spy Who Loved Me (1977)',\n",
       "  'Moonraker (1979)',\n",
       "  'For Your Eyes Only (1981)',\n",
       "  'Octopussy (1983)',\n",
       "  'A View to a Kill (1985)'],\n",
       " ['The Living Daylights (1987)', 'Licence to Kill (1989)'],\n",
       " ['GoldenEye (1995)',\n",
       "  'Tomorrow Never Dies (1997)',\n",
       "  'The World Is Not Enough (1999)',\n",
       "  'Die Another Day (2002)'],\n",
       " ['Casino Royale (2006)',\n",
       "  'Quantum of Solace (2008)',\n",
       "  'Skyfall (2012)',\n",
       "  'Spectre (2015)']]"
      ]
     },
     "execution_count": 4,
     "metadata": {},
     "output_type": "execute_result"
    }
   ],
   "source": [
    "movies007"
   ]
  },
  {
   "cell_type": "code",
   "execution_count": 5,
   "metadata": {},
   "outputs": [],
   "source": [
    "#2) How many movies were played by the first actor to play James Bond?"
   ]
  },
  {
   "cell_type": "code",
   "execution_count": 6,
   "metadata": {},
   "outputs": [
    {
     "name": "stdout",
     "output_type": "stream",
     "text": [
      "7\n"
     ]
    }
   ],
   "source": [
    "print(len(movies007[0])) #length da primeira lista da lista movies007"
   ]
  },
  {
   "cell_type": "code",
   "execution_count": 7,
   "metadata": {},
   "outputs": [],
   "source": [
    "#3) How many movies were played by the last actor to play James Bond?"
   ]
  },
  {
   "cell_type": "code",
   "execution_count": 8,
   "metadata": {},
   "outputs": [
    {
     "name": "stdout",
     "output_type": "stream",
     "text": [
      "4\n"
     ]
    }
   ],
   "source": [
    "print(len(movies007[-1])) #length da ultima lista da lista movies007"
   ]
  },
  {
   "cell_type": "code",
   "execution_count": 9,
   "metadata": {},
   "outputs": [],
   "source": [
    "#4) How many actors played the role of James Bond?"
   ]
  },
  {
   "cell_type": "code",
   "execution_count": 10,
   "metadata": {},
   "outputs": [
    {
     "name": "stdout",
     "output_type": "stream",
     "text": [
      "7\n"
     ]
    }
   ],
   "source": [
    "print(len(movies007))"
   ]
  },
  {
   "cell_type": "code",
   "execution_count": 11,
   "metadata": {},
   "outputs": [],
   "source": [
    "#5) Create a new list with the number of movies played by each actor"
   ]
  },
  {
   "cell_type": "code",
   "execution_count": 12,
   "metadata": {},
   "outputs": [],
   "source": [
    "primeiro = len(movies007[0])\n",
    "segundo = len(movies007[1])\n",
    "terceiro = len(movies007[2])\n",
    "quarto = len(movies007[3])\n",
    "quinto = len(movies007[4])\n",
    "sexto = len(movies007[5])\n",
    "último = len(movies007[-1])"
   ]
  },
  {
   "cell_type": "code",
   "execution_count": 13,
   "metadata": {},
   "outputs": [],
   "source": [
    "movie007NumberList= list((primeiro,segundo,terceiro,quarto,quinto,sexto,último))"
   ]
  },
  {
   "cell_type": "code",
   "execution_count": 14,
   "metadata": {},
   "outputs": [
    {
     "data": {
      "text/plain": [
       "[7, 1, 1, 7, 2, 4, 4]"
      ]
     },
     "execution_count": 14,
     "metadata": {},
     "output_type": "execute_result"
    }
   ],
   "source": [
    "movie007NumberList"
   ]
  },
  {
   "cell_type": "code",
   "execution_count": 15,
   "metadata": {},
   "outputs": [],
   "source": [
    "#6) How many movies were played by the actor who appeared most often in movies?"
   ]
  },
  {
   "cell_type": "code",
   "execution_count": 16,
   "metadata": {},
   "outputs": [
    {
     "data": {
      "text/plain": [
       "7"
      ]
     },
     "execution_count": 16,
     "metadata": {},
     "output_type": "execute_result"
    }
   ],
   "source": [
    "max(movie007NumberList)"
   ]
  },
  {
   "cell_type": "code",
   "execution_count": 17,
   "metadata": {},
   "outputs": [],
   "source": [
    "#7) How many movies were played by the actor who appeared in fewer movies?"
   ]
  },
  {
   "cell_type": "code",
   "execution_count": 18,
   "metadata": {},
   "outputs": [
    {
     "data": {
      "text/plain": [
       "1"
      ]
     },
     "execution_count": 18,
     "metadata": {},
     "output_type": "execute_result"
    }
   ],
   "source": [
    "min(movie007NumberList)"
   ]
  },
  {
   "cell_type": "code",
   "execution_count": 19,
   "metadata": {},
   "outputs": [],
   "source": [
    "#8) Create a new list (movies007a) with all the films."
   ]
  },
  {
   "cell_type": "code",
   "execution_count": 42,
   "metadata": {},
   "outputs": [],
   "source": [
    "movies007a=list((\"Dr. No (1962)\",\n",
    "\"From Russia with Love (1963)\",\n",
    "\"Goldfinger (1964)\",\n",
    "\"Thunderball (1965)\",\n",
    "\"You Only Live Twice (1967)\",\n",
    "\"Diamonds Are Forever (1971)\",\n",
    "\"Never Say Never Again (1983)\",\n",
    "\"Casino Royale (1967)\",\n",
    "\"On Her Majesty's Secret Service (1969)\",\n",
    "\"Live and Let Die (1973)\",\n",
    "\"The Man with the Golden Gun (1974)\",\n",
    "\"The Spy Who Loved Me (1977)\",\n",
    "\"Moonraker (1979)\",\n",
    "\"For Your Eyes Only (1981)\",\n",
    "\"Octopussy (1983)\",\n",
    "\"A View to a Kill (1985)\",\n",
    "\"The Living Daylights (1987)\",\n",
    "\"Licence to Kill (1989)\",\n",
    "\"GoldenEye (1995)\",\n",
    "\"Tomorrow Never Dies (1997)\",\n",
    "\"The World Is Not Enough (1999)\",\n",
    "\"Die Another Day (2002)\",\n",
    "\"Casino Royale (2006)\",\n",
    "\"Quantum of Solace (2008)\",\n",
    "\"Skyfall (2012)\",\n",
    "\"Spectre (2015)\"))"
   ]
  },
  {
   "cell_type": "code",
   "execution_count": 43,
   "metadata": {},
   "outputs": [],
   "source": [
    "#9) Sort the elements of the list"
   ]
  },
  {
   "cell_type": "code",
   "execution_count": 44,
   "metadata": {},
   "outputs": [],
   "source": [
    "movies007a.sort(key=len)"
   ]
  },
  {
   "cell_type": "code",
   "execution_count": 45,
   "metadata": {},
   "outputs": [
    {
     "name": "stdout",
     "output_type": "stream",
     "text": [
      "['Dr. No (1962)', 'Skyfall (2012)', 'Spectre (2015)', 'Moonraker (1979)', 'Octopussy (1983)', 'GoldenEye (1995)', 'Goldfinger (1964)', 'Thunderball (1965)', 'Casino Royale (1967)', 'Casino Royale (2006)', 'Licence to Kill (1989)', 'Die Another Day (2002)', 'Live and Let Die (1973)', 'A View to a Kill (1985)', 'Quantum of Solace (2008)', 'For Your Eyes Only (1981)', 'You Only Live Twice (1967)', 'Tomorrow Never Dies (1997)', 'Diamonds Are Forever (1971)', 'The Spy Who Loved Me (1977)', 'The Living Daylights (1987)', 'From Russia with Love (1963)', 'Never Say Never Again (1983)', 'The World Is Not Enough (1999)', 'The Man with the Golden Gun (1974)', \"On Her Majesty's Secret Service (1969)\"]\n"
     ]
    }
   ],
   "source": [
    "print(movies007a)"
   ]
  },
  {
   "cell_type": "code",
   "execution_count": 46,
   "metadata": {},
   "outputs": [],
   "source": [
    "#9) Reverse the order of the list. What will happen if this method is executed twice? Does this method sort the list if it is not sorted?"
   ]
  },
  {
   "cell_type": "code",
   "execution_count": 47,
   "metadata": {},
   "outputs": [],
   "source": [
    "movies007a.sort(key=len,reverse=True)"
   ]
  },
  {
   "cell_type": "code",
   "execution_count": 48,
   "metadata": {},
   "outputs": [
    {
     "name": "stdout",
     "output_type": "stream",
     "text": [
      "[\"On Her Majesty's Secret Service (1969)\", 'The Man with the Golden Gun (1974)', 'The World Is Not Enough (1999)', 'From Russia with Love (1963)', 'Never Say Never Again (1983)', 'Diamonds Are Forever (1971)', 'The Spy Who Loved Me (1977)', 'The Living Daylights (1987)', 'You Only Live Twice (1967)', 'Tomorrow Never Dies (1997)', 'For Your Eyes Only (1981)', 'Quantum of Solace (2008)', 'Live and Let Die (1973)', 'A View to a Kill (1985)', 'Licence to Kill (1989)', 'Die Another Day (2002)', 'Casino Royale (1967)', 'Casino Royale (2006)', 'Thunderball (1965)', 'Goldfinger (1964)', 'Moonraker (1979)', 'Octopussy (1983)', 'GoldenEye (1995)', 'Skyfall (2012)', 'Spectre (2015)', 'Dr. No (1962)']\n"
     ]
    }
   ],
   "source": [
    "print(movies007a)"
   ]
  },
  {
   "cell_type": "code",
   "execution_count": 49,
   "metadata": {},
   "outputs": [],
   "source": [
    "movies007a.sort(key=len,reverse=True)"
   ]
  },
  {
   "cell_type": "code",
   "execution_count": 50,
   "metadata": {},
   "outputs": [
    {
     "name": "stdout",
     "output_type": "stream",
     "text": [
      "[\"On Her Majesty's Secret Service (1969)\", 'The Man with the Golden Gun (1974)', 'The World Is Not Enough (1999)', 'From Russia with Love (1963)', 'Never Say Never Again (1983)', 'Diamonds Are Forever (1971)', 'The Spy Who Loved Me (1977)', 'The Living Daylights (1987)', 'You Only Live Twice (1967)', 'Tomorrow Never Dies (1997)', 'For Your Eyes Only (1981)', 'Quantum of Solace (2008)', 'Live and Let Die (1973)', 'A View to a Kill (1985)', 'Licence to Kill (1989)', 'Die Another Day (2002)', 'Casino Royale (1967)', 'Casino Royale (2006)', 'Thunderball (1965)', 'Goldfinger (1964)', 'Moonraker (1979)', 'Octopussy (1983)', 'GoldenEye (1995)', 'Skyfall (2012)', 'Spectre (2015)', 'Dr. No (1962)']\n"
     ]
    }
   ],
   "source": [
    "print(movies007a)"
   ]
  },
  {
   "cell_type": "code",
   "execution_count": 51,
   "metadata": {},
   "outputs": [],
   "source": [
    "#se fizermos reverse 2 vezes a ordem não volta à normal, mantém o reverse pedido antes"
   ]
  },
  {
   "cell_type": "code",
   "execution_count": 52,
   "metadata": {},
   "outputs": [],
   "source": [
    "movies007.sort(key=len,reverse=True)"
   ]
  },
  {
   "cell_type": "code",
   "execution_count": 53,
   "metadata": {},
   "outputs": [
    {
     "name": "stdout",
     "output_type": "stream",
     "text": [
      "[['Dr. No (1962)', 'From Russia with Love (1963)', 'Goldfinger (1964)', 'Thunderball (1965)', 'You Only Live Twice (1967)', 'Diamonds Are Forever (1971)', 'Never Say Never Again (1983)'], ['Live and Let Die (1973)', 'The Man with the Golden Gun (1974)', 'The Spy Who Loved Me (1977)', 'Moonraker (1979)', 'For Your Eyes Only (1981)', 'Octopussy (1983)', 'A View to a Kill (1985)'], ['Casino Royale (2006)', 'Quantum of Solace (2008)', 'Skyfall (2012)', 'Spectre (2015)'], ['GoldenEye (1995)', 'Tomorrow Never Dies (1997)', 'The World Is Not Enough (1999)', 'Die Another Day (2002)'], ['The Living Daylights (1987)', 'Licence to Kill (1989)'], ['Casino Royale (1967)'], [\"On Her Majesty's Secret Service (1969)\"]]\n"
     ]
    }
   ],
   "source": [
    "print(movies007)"
   ]
  },
  {
   "cell_type": "code",
   "execution_count": 54,
   "metadata": {},
   "outputs": [],
   "source": [
    "#comprovamos que não, é necessário ser \"sort\" sem reverse primeiro "
   ]
  },
  {
   "cell_type": "code",
   "execution_count": 55,
   "metadata": {},
   "outputs": [],
   "source": [
    "#10) What is the index of the movie \"Spectre (2015)\" in the list of movies"
   ]
  },
  {
   "cell_type": "code",
   "execution_count": 57,
   "metadata": {
    "scrolled": true
   },
   "outputs": [
    {
     "data": {
      "text/plain": [
       "24"
      ]
     },
     "execution_count": 57,
     "metadata": {},
     "output_type": "execute_result"
    }
   ],
   "source": [
    "movies007a.index(\"Spectre (2015)\")"
   ]
  },
  {
   "cell_type": "code",
   "execution_count": 60,
   "metadata": {},
   "outputs": [],
   "source": [
    "#11) Add the movie \"007 and the bad Guy of the climate change (2020)\" in the 11th position."
   ]
  },
  {
   "cell_type": "code",
   "execution_count": 61,
   "metadata": {},
   "outputs": [],
   "source": [
    "movies007a.insert(10,\"007 and the bad Guy of the climate change (2020)\")"
   ]
  },
  {
   "cell_type": "code",
   "execution_count": 62,
   "metadata": {},
   "outputs": [
    {
     "data": {
      "text/plain": [
       "[\"On Her Majesty's Secret Service (1969)\",\n",
       " 'The Man with the Golden Gun (1974)',\n",
       " 'The World Is Not Enough (1999)',\n",
       " 'From Russia with Love (1963)',\n",
       " 'Never Say Never Again (1983)',\n",
       " 'Diamonds Are Forever (1971)',\n",
       " 'The Spy Who Loved Me (1977)',\n",
       " 'The Living Daylights (1987)',\n",
       " 'You Only Live Twice (1967)',\n",
       " 'Tomorrow Never Dies (1997)',\n",
       " '007 and the bad Guy of the climate change (2020)',\n",
       " '007 and the bad Guy of the climate change (2020)',\n",
       " 'For Your Eyes Only (1981)',\n",
       " 'Quantum of Solace (2008)',\n",
       " 'Live and Let Die (1973)',\n",
       " 'A View to a Kill (1985)',\n",
       " 'Licence to Kill (1989)',\n",
       " 'Die Another Day (2002)',\n",
       " 'Casino Royale (1967)',\n",
       " 'Casino Royale (2006)',\n",
       " 'Thunderball (1965)',\n",
       " 'Goldfinger (1964)',\n",
       " 'Moonraker (1979)',\n",
       " 'Octopussy (1983)',\n",
       " 'GoldenEye (1995)',\n",
       " 'Skyfall (2012)',\n",
       " 'Spectre (2015)',\n",
       " 'Dr. No (1962)']"
      ]
     },
     "execution_count": 62,
     "metadata": {},
     "output_type": "execute_result"
    }
   ],
   "source": [
    "movies007a"
   ]
  },
  {
   "cell_type": "code",
   "execution_count": 63,
   "metadata": {},
   "outputs": [],
   "source": [
    "#12) It was a mistake. Remove the movie \"007 and the bad Guy of the climate change (2020)\""
   ]
  },
  {
   "cell_type": "code",
   "execution_count": 65,
   "metadata": {},
   "outputs": [],
   "source": [
    "\n",
    "movies007a.remove(\"007 and the bad Guy of the climate change (2020)\")\n"
   ]
  },
  {
   "cell_type": "code",
   "execution_count": 66,
   "metadata": {},
   "outputs": [
    {
     "data": {
      "text/plain": [
       "[\"On Her Majesty's Secret Service (1969)\",\n",
       " 'The Man with the Golden Gun (1974)',\n",
       " 'The World Is Not Enough (1999)',\n",
       " 'From Russia with Love (1963)',\n",
       " 'Never Say Never Again (1983)',\n",
       " 'Diamonds Are Forever (1971)',\n",
       " 'The Spy Who Loved Me (1977)',\n",
       " 'The Living Daylights (1987)',\n",
       " 'You Only Live Twice (1967)',\n",
       " 'Tomorrow Never Dies (1997)',\n",
       " 'For Your Eyes Only (1981)',\n",
       " 'Quantum of Solace (2008)',\n",
       " 'Live and Let Die (1973)',\n",
       " 'A View to a Kill (1985)',\n",
       " 'Licence to Kill (1989)',\n",
       " 'Die Another Day (2002)',\n",
       " 'Casino Royale (1967)',\n",
       " 'Casino Royale (2006)',\n",
       " 'Thunderball (1965)',\n",
       " 'Goldfinger (1964)',\n",
       " 'Moonraker (1979)',\n",
       " 'Octopussy (1983)',\n",
       " 'GoldenEye (1995)',\n",
       " 'Skyfall (2012)',\n",
       " 'Spectre (2015)',\n",
       " 'Dr. No (1962)']"
      ]
     },
     "execution_count": 66,
     "metadata": {},
     "output_type": "execute_result"
    }
   ],
   "source": [
    "movies007a"
   ]
  },
  {
   "cell_type": "code",
   "execution_count": null,
   "metadata": {},
   "outputs": [],
   "source": []
  }
 ],
 "metadata": {
  "kernelspec": {
   "display_name": "Python 3",
   "language": "python",
   "name": "python3"
  },
  "language_info": {
   "codemirror_mode": {
    "name": "ipython",
    "version": 3
   },
   "file_extension": ".py",
   "mimetype": "text/x-python",
   "name": "python",
   "nbconvert_exporter": "python",
   "pygments_lexer": "ipython3",
   "version": "3.8.3"
  }
 },
 "nbformat": 4,
 "nbformat_minor": 4
}
