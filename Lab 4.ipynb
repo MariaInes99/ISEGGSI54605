{
 "cells": [
  {
   "cell_type": "code",
   "execution_count": 1,
   "metadata": {},
   "outputs": [],
   "source": [
    "#1) Ask the user to insert his name and age. Then, calculate his birth year."
   ]
  },
  {
   "cell_type": "code",
   "execution_count": 2,
   "metadata": {},
   "outputs": [
    {
     "name": "stdout",
     "output_type": "stream",
     "text": [
      "Nome: Diogo\n"
     ]
    }
   ],
   "source": [
    "name=input(\"Nome: \")"
   ]
  },
  {
   "cell_type": "code",
   "execution_count": 3,
   "metadata": {},
   "outputs": [
    {
     "name": "stdout",
     "output_type": "stream",
     "text": [
      "Idade: 21\n"
     ]
    }
   ],
   "source": [
    "age = int(input(\"Idade: \"))"
   ]
  },
  {
   "cell_type": "code",
   "execution_count": 4,
   "metadata": {},
   "outputs": [
    {
     "data": {
      "text/plain": [
       "2020"
      ]
     },
     "execution_count": 4,
     "metadata": {},
     "output_type": "execute_result"
    }
   ],
   "source": [
    "from datetime import date\n",
    "today=date.today()\n",
    "today.year"
   ]
  },
  {
   "cell_type": "code",
   "execution_count": 5,
   "metadata": {
    "scrolled": true
   },
   "outputs": [
    {
     "data": {
      "text/plain": [
       "1999"
      ]
     },
     "execution_count": 5,
     "metadata": {},
     "output_type": "execute_result"
    }
   ],
   "source": [
    "birthyear = today.year-age\n",
    "birthyear"
   ]
  },
  {
   "cell_type": "code",
   "execution_count": 6,
   "metadata": {},
   "outputs": [],
   "source": [
    "#2) Ask the user to insert a text. The program will always answer \"yes\". The conversation will be closed when the user says \"bye\"."
   ]
  },
  {
   "cell_type": "code",
   "execution_count": 7,
   "metadata": {
    "scrolled": true
   },
   "outputs": [
    {
     "name": "stdout",
     "output_type": "stream",
     "text": [
      "Insert a text: yes\n",
      "yes\n",
      "Insert a text: bye\n"
     ]
    }
   ],
   "source": [
    "txt=\"\"\n",
    "txt = input(\"Insert a text: \")\n",
    "while txt != 'bye':\n",
    "    print(\"yes\")\n",
    "    txt = input(\"Insert a text: \")"
   ]
  },
  {
   "cell_type": "code",
   "execution_count": 8,
   "metadata": {},
   "outputs": [],
   "source": [
    "#3) Create a function for a greeting"
   ]
  },
  {
   "cell_type": "code",
   "execution_count": 9,
   "metadata": {},
   "outputs": [],
   "source": [
    "def greet ():\n",
    "    print (\"Hello!\")"
   ]
  },
  {
   "cell_type": "code",
   "execution_count": 10,
   "metadata": {},
   "outputs": [],
   "source": [
    "#4) Call greeting function at the beginning of the conversation."
   ]
  },
  {
   "cell_type": "code",
   "execution_count": 11,
   "metadata": {},
   "outputs": [
    {
     "name": "stdout",
     "output_type": "stream",
     "text": [
      "Hello!\n",
      "Insert a text: yes\n",
      "yes\n",
      "Insert a text: bye\n"
     ]
    }
   ],
   "source": [
    "greet()\n",
    "txt=\"\"\n",
    "txt = input(\"Insert a text: \")\n",
    "while txt != 'bye':\n",
    "    print(\"yes\")\n",
    "    txt = input(\"Insert a text: \")"
   ]
  },
  {
   "cell_type": "code",
   "execution_count": 12,
   "metadata": {},
   "outputs": [],
   "source": [
    "#5) Improve your chatbot"
   ]
  },
  {
   "cell_type": "code",
   "execution_count": 13,
   "metadata": {},
   "outputs": [
    {
     "name": "stdout",
     "output_type": "stream",
     "text": [
      "Hello,Diogo!\n"
     ]
    }
   ],
   "source": [
    "def greetUser (name): \n",
    "    \"mensagem personalizada para o user\"\n",
    "print (\"Hello,\" + name + \"!\")"
   ]
  },
  {
   "cell_type": "code",
   "execution_count": 14,
   "metadata": {},
   "outputs": [
    {
     "name": "stdout",
     "output_type": "stream",
     "text": [
      "Hello,Diogo!\n",
      "Insert a text: bye\n"
     ]
    }
   ],
   "source": [
    "greetUser(name)\n",
    "print (\"Hello,\" + name + \"!\")\n",
    "txt=\"\"\n",
    "txt = input(\"Insert a text: \")\n",
    "while txt != 'bye':\n",
    "    print(\"yes\")\n",
    "    txt = input(\"Insert a text: \")"
   ]
  },
  {
   "cell_type": "code",
   "execution_count": null,
   "metadata": {},
   "outputs": [],
   "source": []
  }
 ],
 "metadata": {
  "kernelspec": {
   "display_name": "Python 3",
   "language": "python",
   "name": "python3"
  },
  "language_info": {
   "codemirror_mode": {
    "name": "ipython",
    "version": 3
   },
   "file_extension": ".py",
   "mimetype": "text/x-python",
   "name": "python",
   "nbconvert_exporter": "python",
   "pygments_lexer": "ipython3",
   "version": "3.8.3"
  }
 },
 "nbformat": 4,
 "nbformat_minor": 4
}
